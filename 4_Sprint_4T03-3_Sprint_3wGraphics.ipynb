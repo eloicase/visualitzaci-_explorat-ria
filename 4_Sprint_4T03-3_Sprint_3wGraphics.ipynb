{
 "cells": [
  {
   "cell_type": "markdown",
   "id": "77e71204",
   "metadata": {},
   "source": [
    "## sprint-4-T04\n",
    "### Source: sprint-3-T05 (WITH GRAPHICS)\n",
    "### Eloi Canals"
   ]
  },
  {
   "cell_type": "markdown",
   "id": "dc75f64e",
   "metadata": {},
   "source": [
    "[x] Nivell 1. Exercici 1. Descarrega el data set Airlines Delay: Airline on-time statistics and delay causes i carrega’l a un pandas Dataframe. Explora les dades que conté, i queda’t únicament amb les columnes que consideris rellevants."
   ]
  },
  {
   "cell_type": "code",
   "execution_count": 1,
   "id": "f125fef4",
   "metadata": {},
   "outputs": [
    {
     "name": "stderr",
     "output_type": "stream",
     "text": [
      "/Users/ecanals/opt/anaconda3/lib/python3.8/site-packages/numpy/lib/arraysetops.py:583: FutureWarning: elementwise comparison failed; returning scalar instead, but in the future will perform elementwise comparison\n",
      "  mask |= (ar1 == a)\n"
     ]
    },
    {
     "data": {
      "text/html": [
       "<div>\n",
       "<style scoped>\n",
       "    .dataframe tbody tr th:only-of-type {\n",
       "        vertical-align: middle;\n",
       "    }\n",
       "\n",
       "    .dataframe tbody tr th {\n",
       "        vertical-align: top;\n",
       "    }\n",
       "\n",
       "    .dataframe thead th {\n",
       "        text-align: right;\n",
       "    }\n",
       "</style>\n",
       "<table border=\"1\" class=\"dataframe\">\n",
       "  <thead>\n",
       "    <tr style=\"text-align: right;\">\n",
       "      <th></th>\n",
       "      <th>Year</th>\n",
       "      <th>Month</th>\n",
       "      <th>DayofMonth</th>\n",
       "      <th>DayOfWeek</th>\n",
       "      <th>DepTime</th>\n",
       "      <th>ArrTime</th>\n",
       "      <th>UniqueCarrier</th>\n",
       "      <th>FlightNum</th>\n",
       "      <th>TailNum</th>\n",
       "      <th>ActualElapsedTime</th>\n",
       "      <th>AirTime</th>\n",
       "      <th>ArrDelay</th>\n",
       "      <th>DepDelay</th>\n",
       "      <th>Origin</th>\n",
       "      <th>Dest</th>\n",
       "      <th>Distance</th>\n",
       "      <th>Cancelled</th>\n",
       "      <th>Diverted</th>\n",
       "      <th>CarrierDelay</th>\n",
       "      <th>WeatherDelay</th>\n",
       "    </tr>\n",
       "  </thead>\n",
       "  <tbody>\n",
       "    <tr>\n",
       "      <th>0</th>\n",
       "      <td>2008</td>\n",
       "      <td>1</td>\n",
       "      <td>3</td>\n",
       "      <td>4</td>\n",
       "      <td>2003.0</td>\n",
       "      <td>2211.0</td>\n",
       "      <td>WN</td>\n",
       "      <td>335</td>\n",
       "      <td>N712SW</td>\n",
       "      <td>128.0</td>\n",
       "      <td>116.0</td>\n",
       "      <td>-14.0</td>\n",
       "      <td>8.0</td>\n",
       "      <td>IAD</td>\n",
       "      <td>TPA</td>\n",
       "      <td>810</td>\n",
       "      <td>0</td>\n",
       "      <td>0</td>\n",
       "      <td>NaN</td>\n",
       "      <td>NaN</td>\n",
       "    </tr>\n",
       "    <tr>\n",
       "      <th>1</th>\n",
       "      <td>2008</td>\n",
       "      <td>1</td>\n",
       "      <td>3</td>\n",
       "      <td>4</td>\n",
       "      <td>754.0</td>\n",
       "      <td>1002.0</td>\n",
       "      <td>WN</td>\n",
       "      <td>3231</td>\n",
       "      <td>N772SW</td>\n",
       "      <td>128.0</td>\n",
       "      <td>113.0</td>\n",
       "      <td>2.0</td>\n",
       "      <td>19.0</td>\n",
       "      <td>IAD</td>\n",
       "      <td>TPA</td>\n",
       "      <td>810</td>\n",
       "      <td>0</td>\n",
       "      <td>0</td>\n",
       "      <td>NaN</td>\n",
       "      <td>NaN</td>\n",
       "    </tr>\n",
       "    <tr>\n",
       "      <th>2</th>\n",
       "      <td>2008</td>\n",
       "      <td>1</td>\n",
       "      <td>3</td>\n",
       "      <td>4</td>\n",
       "      <td>628.0</td>\n",
       "      <td>804.0</td>\n",
       "      <td>WN</td>\n",
       "      <td>448</td>\n",
       "      <td>N428WN</td>\n",
       "      <td>96.0</td>\n",
       "      <td>76.0</td>\n",
       "      <td>14.0</td>\n",
       "      <td>8.0</td>\n",
       "      <td>IND</td>\n",
       "      <td>BWI</td>\n",
       "      <td>515</td>\n",
       "      <td>0</td>\n",
       "      <td>0</td>\n",
       "      <td>NaN</td>\n",
       "      <td>NaN</td>\n",
       "    </tr>\n",
       "    <tr>\n",
       "      <th>4</th>\n",
       "      <td>2008</td>\n",
       "      <td>1</td>\n",
       "      <td>3</td>\n",
       "      <td>4</td>\n",
       "      <td>1829.0</td>\n",
       "      <td>1959.0</td>\n",
       "      <td>WN</td>\n",
       "      <td>3920</td>\n",
       "      <td>N464WN</td>\n",
       "      <td>90.0</td>\n",
       "      <td>77.0</td>\n",
       "      <td>34.0</td>\n",
       "      <td>34.0</td>\n",
       "      <td>IND</td>\n",
       "      <td>BWI</td>\n",
       "      <td>515</td>\n",
       "      <td>0</td>\n",
       "      <td>0</td>\n",
       "      <td>2.0</td>\n",
       "      <td>0.0</td>\n",
       "    </tr>\n",
       "    <tr>\n",
       "      <th>5</th>\n",
       "      <td>2008</td>\n",
       "      <td>1</td>\n",
       "      <td>3</td>\n",
       "      <td>4</td>\n",
       "      <td>1940.0</td>\n",
       "      <td>2121.0</td>\n",
       "      <td>WN</td>\n",
       "      <td>378</td>\n",
       "      <td>N726SW</td>\n",
       "      <td>101.0</td>\n",
       "      <td>87.0</td>\n",
       "      <td>11.0</td>\n",
       "      <td>25.0</td>\n",
       "      <td>IND</td>\n",
       "      <td>JAX</td>\n",
       "      <td>688</td>\n",
       "      <td>0</td>\n",
       "      <td>0</td>\n",
       "      <td>NaN</td>\n",
       "      <td>NaN</td>\n",
       "    </tr>\n",
       "    <tr>\n",
       "      <th>6</th>\n",
       "      <td>2008</td>\n",
       "      <td>1</td>\n",
       "      <td>3</td>\n",
       "      <td>4</td>\n",
       "      <td>1937.0</td>\n",
       "      <td>2037.0</td>\n",
       "      <td>WN</td>\n",
       "      <td>509</td>\n",
       "      <td>N763SW</td>\n",
       "      <td>240.0</td>\n",
       "      <td>230.0</td>\n",
       "      <td>57.0</td>\n",
       "      <td>67.0</td>\n",
       "      <td>IND</td>\n",
       "      <td>LAS</td>\n",
       "      <td>1591</td>\n",
       "      <td>0</td>\n",
       "      <td>0</td>\n",
       "      <td>10.0</td>\n",
       "      <td>0.0</td>\n",
       "    </tr>\n",
       "    <tr>\n",
       "      <th>10</th>\n",
       "      <td>2008</td>\n",
       "      <td>1</td>\n",
       "      <td>3</td>\n",
       "      <td>4</td>\n",
       "      <td>706.0</td>\n",
       "      <td>916.0</td>\n",
       "      <td>WN</td>\n",
       "      <td>100</td>\n",
       "      <td>N690SW</td>\n",
       "      <td>130.0</td>\n",
       "      <td>106.0</td>\n",
       "      <td>1.0</td>\n",
       "      <td>6.0</td>\n",
       "      <td>IND</td>\n",
       "      <td>MCO</td>\n",
       "      <td>828</td>\n",
       "      <td>0</td>\n",
       "      <td>0</td>\n",
       "      <td>NaN</td>\n",
       "      <td>NaN</td>\n",
       "    </tr>\n",
       "    <tr>\n",
       "      <th>11</th>\n",
       "      <td>2008</td>\n",
       "      <td>1</td>\n",
       "      <td>3</td>\n",
       "      <td>4</td>\n",
       "      <td>1644.0</td>\n",
       "      <td>1845.0</td>\n",
       "      <td>WN</td>\n",
       "      <td>1333</td>\n",
       "      <td>N334SW</td>\n",
       "      <td>121.0</td>\n",
       "      <td>107.0</td>\n",
       "      <td>80.0</td>\n",
       "      <td>94.0</td>\n",
       "      <td>IND</td>\n",
       "      <td>MCO</td>\n",
       "      <td>828</td>\n",
       "      <td>0</td>\n",
       "      <td>0</td>\n",
       "      <td>8.0</td>\n",
       "      <td>0.0</td>\n",
       "    </tr>\n",
       "    <tr>\n",
       "      <th>15</th>\n",
       "      <td>2008</td>\n",
       "      <td>1</td>\n",
       "      <td>3</td>\n",
       "      <td>4</td>\n",
       "      <td>1029.0</td>\n",
       "      <td>1021.0</td>\n",
       "      <td>WN</td>\n",
       "      <td>2272</td>\n",
       "      <td>N263WN</td>\n",
       "      <td>52.0</td>\n",
       "      <td>37.0</td>\n",
       "      <td>11.0</td>\n",
       "      <td>9.0</td>\n",
       "      <td>IND</td>\n",
       "      <td>MDW</td>\n",
       "      <td>162</td>\n",
       "      <td>0</td>\n",
       "      <td>0</td>\n",
       "      <td>NaN</td>\n",
       "      <td>NaN</td>\n",
       "    </tr>\n",
       "    <tr>\n",
       "      <th>16</th>\n",
       "      <td>2008</td>\n",
       "      <td>1</td>\n",
       "      <td>3</td>\n",
       "      <td>4</td>\n",
       "      <td>1452.0</td>\n",
       "      <td>1640.0</td>\n",
       "      <td>WN</td>\n",
       "      <td>675</td>\n",
       "      <td>N286WN</td>\n",
       "      <td>228.0</td>\n",
       "      <td>213.0</td>\n",
       "      <td>15.0</td>\n",
       "      <td>27.0</td>\n",
       "      <td>IND</td>\n",
       "      <td>PHX</td>\n",
       "      <td>1489</td>\n",
       "      <td>0</td>\n",
       "      <td>0</td>\n",
       "      <td>3.0</td>\n",
       "      <td>0.0</td>\n",
       "    </tr>\n",
       "  </tbody>\n",
       "</table>\n",
       "</div>"
      ],
      "text/plain": [
       "    Year  Month  DayofMonth  DayOfWeek  DepTime  ArrTime UniqueCarrier  \\\n",
       "0   2008      1           3          4   2003.0   2211.0            WN   \n",
       "1   2008      1           3          4    754.0   1002.0            WN   \n",
       "2   2008      1           3          4    628.0    804.0            WN   \n",
       "4   2008      1           3          4   1829.0   1959.0            WN   \n",
       "5   2008      1           3          4   1940.0   2121.0            WN   \n",
       "6   2008      1           3          4   1937.0   2037.0            WN   \n",
       "10  2008      1           3          4    706.0    916.0            WN   \n",
       "11  2008      1           3          4   1644.0   1845.0            WN   \n",
       "15  2008      1           3          4   1029.0   1021.0            WN   \n",
       "16  2008      1           3          4   1452.0   1640.0            WN   \n",
       "\n",
       "    FlightNum TailNum  ActualElapsedTime  AirTime  ArrDelay  DepDelay Origin  \\\n",
       "0         335  N712SW              128.0    116.0     -14.0       8.0    IAD   \n",
       "1        3231  N772SW              128.0    113.0       2.0      19.0    IAD   \n",
       "2         448  N428WN               96.0     76.0      14.0       8.0    IND   \n",
       "4        3920  N464WN               90.0     77.0      34.0      34.0    IND   \n",
       "5         378  N726SW              101.0     87.0      11.0      25.0    IND   \n",
       "6         509  N763SW              240.0    230.0      57.0      67.0    IND   \n",
       "10        100  N690SW              130.0    106.0       1.0       6.0    IND   \n",
       "11       1333  N334SW              121.0    107.0      80.0      94.0    IND   \n",
       "15       2272  N263WN               52.0     37.0      11.0       9.0    IND   \n",
       "16        675  N286WN              228.0    213.0      15.0      27.0    IND   \n",
       "\n",
       "   Dest  Distance  Cancelled  Diverted  CarrierDelay  WeatherDelay  \n",
       "0   TPA       810          0         0           NaN           NaN  \n",
       "1   TPA       810          0         0           NaN           NaN  \n",
       "2   BWI       515          0         0           NaN           NaN  \n",
       "4   BWI       515          0         0           2.0           0.0  \n",
       "5   JAX       688          0         0           NaN           NaN  \n",
       "6   LAS      1591          0         0          10.0           0.0  \n",
       "10  MCO       828          0         0           NaN           NaN  \n",
       "11  MCO       828          0         0           8.0           0.0  \n",
       "15  MDW       162          0         0           NaN           NaN  \n",
       "16  PHX      1489          0         0           3.0           0.0  "
      ]
     },
     "execution_count": 1,
     "metadata": {},
     "output_type": "execute_result"
    }
   ],
   "source": [
    "import pandas as pd\n",
    "import matplotlib.pyplot as plt\n",
    "import numpy as np\n",
    "\n",
    "delfli = pd.read_csv('DelayedFlights.csv', index_col=0)\n",
    "\n",
    "to_keep = ['Year','Month','DayofMonth','DayOfWeek','DepTime','ArrTime','UniqueCarrier','FlightNum','TailNum','ActualElapsedTime','AirTime','ArrDelay','DepDelay','Origin','Dest','Distance','Cancelled','Diverted','CarrierDelay','WeatherDelay']\n",
    "mycols=delfli[to_keep]\n",
    "mycols[:10]"
   ]
  },
  {
   "cell_type": "markdown",
   "id": "ab247bc7",
   "metadata": {},
   "source": [
    "[x] Nivell 1. Exercici 2. Informe Complet"
   ]
  },
  {
   "cell_type": "markdown",
   "id": "4f7abdb5",
   "metadata": {},
   "source": [
    "### Resum estadistic per columnes"
   ]
  },
  {
   "cell_type": "code",
   "execution_count": 2,
   "id": "34b65afb",
   "metadata": {},
   "outputs": [
    {
     "data": {
      "text/plain": [
       "12    203385\n",
       "6     200914\n",
       "3     200842\n",
       "2     189534\n",
       "1     183527\n",
       "7     182945\n",
       "8     162648\n",
       "4     155264\n",
       "5     153072\n",
       "11    105563\n",
       "10    103525\n",
       "9      95539\n",
       "Name: Month, dtype: int64"
      ]
     },
     "execution_count": 2,
     "metadata": {},
     "output_type": "execute_result"
    }
   ],
   "source": [
    "mycols.Month.value_counts()"
   ]
  },
  {
   "cell_type": "markdown",
   "id": "8cadf90d",
   "metadata": {},
   "source": [
    "#### Nombre de retrasos acumulats per mes (Mostrant noms dels mesos)"
   ]
  },
  {
   "cell_type": "code",
   "execution_count": 3,
   "id": "d1985b2f",
   "metadata": {},
   "outputs": [
    {
     "data": {
      "image/png": "[encoded data removed]",
      "text/plain": [
       "<Figure size 432x288 with 1 Axes>"
      ]
     },
     "metadata": {
      "needs_background": "light"
     },
     "output_type": "display_data"
    }
   ],
   "source": [
    "Totals_x_month = mycols.Month.value_counts()\n",
    "\n",
    "\n",
    "#Totals_x_month.index = ['Gener', 'Febrer', 'Març', 'Abril', 'Maig', 'Juny', 'Juliol', 'Agost', 'Septembre', 'Octubre', 'Novembre', 'Desembre']\n",
    "Totals_x_month.index = Totals_x_month.index.map({1:'Gener', 2:'Febrer', 3:'Març', 4:'Abril', 5:'Maig', 6:'Juny', 7:'Juliol', 8:'Agost', 9:'Septembre', 10:'Octubre', 11:'Novembre', 12:'Desembre'})\n",
    "Totals_x_month\n",
    "\n",
    "\n",
    "fig, ax = plt.subplots()\n",
    "\n",
    "# data\n",
    "x_pos = Totals_x_month.index\n",
    "y_pos = np.arange(Totals_x_month.count())\n",
    "\n",
    "ax.barh(y_pos, Totals_x_month, align='center')\n",
    "ax.set_yticks(y_pos)\n",
    "ax.set_yticklabels(x_pos)\n",
    "ax.invert_yaxis()  # labels read top-to-bottom\n",
    "ax.set_xlabel('Mesos')\n",
    "ax.set_title('Incidents by Airline')\n",
    "\n",
    "plt.show()"
   ]
  },
  {
   "cell_type": "markdown",
   "id": "924c8f20",
   "metadata": {},
   "source": [
    "#### Nombre de retrasos per Carrier (Mostrant el nom de la Aerolinia)"
   ]
  },
  {
   "cell_type": "code",
   "execution_count": 4,
   "id": "dea44d81",
   "metadata": {},
   "outputs": [
    {
     "data": {
      "image/png": "[encoded data removed]",
      "text/plain": [
       "<Figure size 432x288 with 1 Axes>"
      ]
     },
     "metadata": {},
     "output_type": "display_data"
    }
   ],
   "source": [
    "Totals_x_carrier = mycols.UniqueCarrier.value_counts()\n",
    "\n",
    "carriers = pd.read_csv('AirlineCodesIATA.csv', index_col=0)\n",
    "\n",
    "to_keep_c = ['Airline']\n",
    "carriers_ok=carriers[to_keep_c]\n",
    "\n",
    "# Borrar index duplicats\n",
    "carriers_ok = carriers_ok[~carriers_ok.index.duplicated()]\n",
    "newidx = carriers_ok.reindex()\n",
    "\n",
    "myDic = carriers_ok.to_dict()\n",
    "\n",
    "\n",
    "Totals_x_carrier.index = Totals_x_carrier.index.map(myDic['Airline'])\n",
    "\n",
    "Totals_x_carrier\n",
    "\n",
    "\n",
    "# Pie chart, where the slices will be ordered and plotted counter-clockwise:\n",
    "labels = Totals_x_carrier.index\n",
    "myDelays = Totals_x_carrier\n",
    "\n",
    "fig1, ax1 = plt.subplots()\n",
    "ax1.pie(myDelays, labels=labels, autopct='%1.1f%%',\n",
    "        shadow=True, startangle=90)\n",
    "ax1.axis('equal')  # Equal aspect ratio ensures that pie is drawn as a circle.\n",
    "\n",
    "ax1.set_title('Airlines with more aggregate delays')\n",
    "\n",
    "plt.show()"
   ]
  },
  {
   "cell_type": "markdown",
   "id": "02cb75b1",
   "metadata": {},
   "source": [
    "### Columnes noves (velocitat mitjana del vol, si ha arribat tard o no...)"
   ]
  },
  {
   "cell_type": "code",
   "execution_count": 5,
   "id": "1d0f5b90",
   "metadata": {
    "scrolled": true
   },
   "outputs": [
    {
     "name": "stderr",
     "output_type": "stream",
     "text": [
      "<ipython-input-5-5dc6a680279a>:4: SettingWithCopyWarning: \n",
      "A value is trying to be set on a copy of a slice from a DataFrame.\n",
      "Try using .loc[row_indexer,col_indexer] = value instead\n",
      "\n",
      "See the caveats in the documentation: https://pandas.pydata.org/pandas-docs/stable/user_guide/indexing.html#returning-a-view-versus-a-copy\n",
      "  mycols['AvgSpeed'] = avg_speed\n"
     ]
    },
    {
     "data": {
      "text/plain": [
       "0     418.965517\n",
       "1     430.088496\n",
       "2     406.578947\n",
       "4     401.298701\n",
       "5     474.482759\n",
       "6     415.043478\n",
       "10    468.679245\n",
       "11    464.299065\n",
       "15    262.702703\n",
       "16    419.436620\n",
       "Name: AvgSpeed, dtype: float64"
      ]
     },
     "execution_count": 5,
     "metadata": {},
     "output_type": "execute_result"
    }
   ],
   "source": [
    "avg_speed = mycols['Distance'] / ( mycols['AirTime'] / 60 )\n",
    "#avg_speed.round(2)\n",
    "\n",
    "mycols['AvgSpeed'] = avg_speed\n",
    "mycols[:10]['AvgSpeed']\n"
   ]
  },
  {
   "cell_type": "markdown",
   "id": "2e6f1875",
   "metadata": {},
   "source": [
    "#### Columna nova: Vol amb retràs"
   ]
  },
  {
   "cell_type": "code",
   "execution_count": null,
   "id": "6c2cdf8c",
   "metadata": {
    "scrolled": true
   },
   "outputs": [
    {
     "name": "stdout",
     "output_type": "stream",
     "text": [
      "[-14.   2.  14. ...  99.   9.  -5.]\n"
     ]
    }
   ],
   "source": [
    "print (mycols['ArrDelay'].values)\n",
    "\n",
    "def check_late(row):\n",
    "    if row['ArrDelay'] > 0:\n",
    "        return True\n",
    "    else:\n",
    "        return False\n",
    "\n",
    "\n",
    "mycols['FlightLate'] = mycols.apply(check_late, axis=1)\n",
    "\n",
    "\n",
    "mycols\n",
    "\n",
    "delayedFlights = mycols.FlightLate.value_counts()\n",
    "delayedFlights"
   ]
  },
  {
   "cell_type": "markdown",
   "id": "518eb5e1",
   "metadata": {},
   "source": [
    "### Taula de les aerolínies amb més endarreriments acumulats"
   ]
  },
  {
   "cell_type": "code",
   "execution_count": null,
   "id": "c56ce663",
   "metadata": {},
   "outputs": [],
   "source": [
    "delayed_flights = mycols.loc[mycols['FlightLate'] == True ]\n",
    "\n",
    "Delays_x_carrier = delayed_flights.UniqueCarrier.value_counts()\n",
    "\n",
    "\n",
    "Delays_x_carrier.index = Delays_x_carrier.index.map(myDic['Airline'])\n",
    "\n",
    "Delays_x_carrier\n",
    "\n",
    "x = Delays_x_carrier.index\n",
    "y = Delays_x_carrier\n",
    "\n",
    "plt.stem(x, y)\n",
    "plt.show()"
   ]
  },
  {
   "cell_type": "markdown",
   "id": "2c943908",
   "metadata": {},
   "source": [
    "### Vols més llargs? I els més endarrerits?"
   ]
  },
  {
   "cell_type": "code",
   "execution_count": null,
   "id": "21ff6598",
   "metadata": {},
   "outputs": [],
   "source": [
    "# Vols més llargs (TEMPS)\n",
    "\n",
    "longest_flights = mycols.sort_values(by='AirTime',ascending=False)\n",
    "\n",
    "longest_flights[:10]['AirTime']"
   ]
  },
  {
   "cell_type": "code",
   "execution_count": null,
   "id": "829ae5df",
   "metadata": {},
   "outputs": [],
   "source": [
    "# Vols més llargs (DISTANCIA)\n",
    "\n",
    "largest_flights = mycols.sort_values(by='Distance',ascending=False)\n",
    "\n",
    "\n",
    "selection_longest = largest_flights.loc[:10,['FlightNum', 'Origin', 'Dest', 'Distance']]\n",
    "selection_longest"
   ]
  },
  {
   "cell_type": "markdown",
   "id": "5a812ed1",
   "metadata": {},
   "source": [
    "#### Vols més endarrerits"
   ]
  },
  {
   "cell_type": "code",
   "execution_count": null,
   "id": "755dc214",
   "metadata": {},
   "outputs": [],
   "source": [
    "# Vols més endarrerits. Diferencia entre sortida prevista i sortida real\n",
    "\n",
    "longest_delays = mycols.sort_values(by='DepDelay',ascending=False)\n",
    "\n",
    "longest_delays[:10]\n",
    "\n",
    "\n"
   ]
  },
  {
   "cell_type": "markdown",
   "id": "aca12b93",
   "metadata": {},
   "source": [
    "### Extra Ball"
   ]
  },
  {
   "cell_type": "markdown",
   "id": "af3e7a8c",
   "metadata": {},
   "source": [
    "#### Total incidencies per dia de la setmana (mostrant el nom del dia)"
   ]
  },
  {
   "cell_type": "code",
   "execution_count": null,
   "id": "17cce004",
   "metadata": {},
   "outputs": [],
   "source": [
    "# Totals per dia de la setmana\n",
    "\n",
    "Totals_x_day = mycols.DayOfWeek.value_counts()\n",
    "\n",
    "Totals_x_day.index = Totals_x_day.index.map({1:'Dilluns', 2:'Dimarts', 3:'Dimecres', 4:'Dijous', 5:'Divendres', 6:'Dissabte', 7:'Diumenge'})\n",
    "Totals_x_day\n",
    "\n",
    "\n",
    "x = Totals_x_day.index\n",
    "y = Totals_x_day\n",
    "\n",
    "plt.step(x, y + 2, label='pre (default)')\n",
    "plt.plot(x, y + 2, 'o--', color='grey', alpha=0.3)\n",
    "\n",
    "plt.step(x, y + 1, where='mid', label='mid')\n",
    "plt.plot(x, y + 1, 'o--', color='grey', alpha=0.3)\n",
    "\n",
    "plt.step(x, y, where='post', label='post')\n",
    "plt.plot(x, y, 'o--', color='grey', alpha=0.3)\n",
    "\n",
    "plt.grid(axis='x', color='0.95')\n",
    "plt.legend(title='Parameter where:')\n",
    "plt.title('plt.step(where=...)')\n",
    "plt.show()"
   ]
  }
 ],
 "metadata": {
  "kernelspec": {
   "display_name": "Python 3",
   "language": "python",
   "name": "python3"
  },
  "language_info": {
   "codemirror_mode": {
    "name": "ipython",
    "version": 3
   },
   "file_extension": ".py",
   "mimetype": "text/x-python",
   "name": "python",
   "nbconvert_exporter": "python",
   "pygments_lexer": "ipython3",
   "version": "3.8.8"
  }
 },
 "nbformat": 4,
 "nbformat_minor": 5
}
